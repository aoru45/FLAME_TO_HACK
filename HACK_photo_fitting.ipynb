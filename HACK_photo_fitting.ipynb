{
 "cells": [
  {
   "cell_type": "markdown",
   "metadata": {
    "colab_type": "text",
    "id": "view-in-github"
   },
   "source": [
    "<a href=\"https://colab.research.google.com/github/aoru45/FLAME_TO_HACK/blob/main/HACK_photo_fitting.ipynb\" target=\"_parent\"><img src=\"https://colab.research.google.com/assets/colab-badge.svg\" alt=\"Open In Colab\"/></a>"
   ]
  },
  {
   "cell_type": "markdown",
   "metadata": {
    "id": "MSmUjZ5Hlpqn"
   },
   "source": [
    "Clone Hack Repo"
   ]
  },
  {
   "cell_type": "code",
   "execution_count": null,
   "metadata": {
    "colab": {
     "base_uri": "https://localhost:8080/"
    },
    "id": "k0v_vCj9AmKm",
    "outputId": "06b3112f-3584-4b1d-864a-407cf077aca5"
   },
   "outputs": [
    {
     "name": "stdout",
     "output_type": "stream",
     "text": [
      "Cloning into 'HACK-Model'...\n",
      "remote: Enumerating objects: 28, done.\u001b[K\n",
      "remote: Total 28 (delta 0), reused 0 (delta 0), pack-reused 28\u001b[K\n",
      "Receiving objects: 100% (28/28), 47.38 MiB | 31.28 MiB/s, done.\n"
     ]
    }
   ],
   "source": [
    "!git clone https://github.com/ZoneLikeWonderland/HACK-Model.git\n",
    "!mv HACK-Model/* ./"
   ]
  },
  {
   "cell_type": "markdown",
   "metadata": {
    "id": "bn_wAu7slQpY"
   },
   "source": [
    "Put your username and password to \"**USERNAME_HERE**\" and \"**PASSWORD_HERE**\",you shold register a username and password from [FLAME](https://flame.is.tue.mpg.de/) to get the dataset."
   ]
  },
  {
   "cell_type": "code",
   "execution_count": null,
   "metadata": {
    "colab": {
     "base_uri": "https://localhost:8080/"
    },
    "id": "OiqMETsNAzxQ",
    "outputId": "68e47e45-2f86-4051-f54b-cd62689ce76e"
   },
   "outputs": [
    {
     "name": "stdout",
     "output_type": "stream",
     "text": [
      "--2023-08-25 13:01:19--  https://download.is.tue.mpg.de/download.php?domain=flame&sfile=TextureSpace.zip&resume=1\n",
      "Resolving download.is.tue.mpg.de (download.is.tue.mpg.de)... 192.124.27.139\n",
      "Connecting to download.is.tue.mpg.de (download.is.tue.mpg.de)|192.124.27.139|:443... connected.\n",
      "HTTP request sent, awaiting response... 302 Found\n",
      "Location: download.php?domain=flame&sfile=TextureSpace.zip&resume=1 [following]\n",
      "--2023-08-25 13:01:20--  https://download.is.tue.mpg.de/download.php?domain=flame&sfile=TextureSpace.zip&resume=1\n",
      "Reusing existing connection to download.is.tue.mpg.de:443.\n",
      "HTTP request sent, awaiting response... 200 OK\n",
      "Length: 1158570802 (1.1G) [application/octet-stream]\n",
      "Saving to: ‘./TextureSpace.zip’\n",
      "\n",
      "./TextureSpace.zip  100%[===================>]   1.08G  19.2MB/s    in 59s     \n",
      "\n",
      "2023-08-25 13:02:19 (18.8 MB/s) - ‘./TextureSpace.zip’ saved [1158570802/1158570802]\n",
      "\n",
      "Archive:  TextureSpace.zip\n",
      "  inflating: FLAME_texture.npz       \n",
      "  inflating: Readme.pdf              \n"
     ]
    }
   ],
   "source": [
    "!wget --post-data \"username=USERNAME_HERE&password=PASSWORD_HERE\" 'https://download.is.tue.mpg.de/download.php?domain=flame&sfile=TextureSpace.zip&resume=1' -O './TextureSpace.zip' --no-check-certificate --continue\n",
    "!unzip TextureSpace.zip\n"
   ]
  },
  {
   "cell_type": "code",
   "execution_count": null,
   "metadata": {
    "colab": {
     "base_uri": "https://localhost:8080/"
    },
    "id": "9qXuJ9bNrxfT",
    "outputId": "827d52d1-e663-4305-8cdb-4dbb6278613c"
   },
   "outputs": [
    {
     "name": "stdout",
     "output_type": "stream",
     "text": [
      "Collecting roma\n",
      "  Downloading roma-1.4.0-py3-none-any.whl (26 kB)\n",
      "Installing collected packages: roma\n",
      "Successfully installed roma-1.4.0\n",
      "Collecting trimesh\n",
      "  Downloading trimesh-3.23.5-py3-none-any.whl (685 kB)\n",
      "\u001b[2K     \u001b[90m━━━━━━━━━━━━━━━━━━━━━━━━━━━━━━━━━━━━━━\u001b[0m \u001b[32m685.4/685.4 kB\u001b[0m \u001b[31m13.2 MB/s\u001b[0m eta \u001b[36m0:00:00\u001b[0m\n",
      "\u001b[?25hRequirement already satisfied: numpy in /usr/local/lib/python3.10/dist-packages (from trimesh) (1.23.5)\n",
      "Installing collected packages: trimesh\n",
      "Successfully installed trimesh-3.23.5\n"
     ]
    }
   ],
   "source": [
    "!pip install roma\n",
    "!pip install trimesh"
   ]
  },
  {
   "cell_type": "code",
   "execution_count": 1,
   "metadata": {
    "colab": {
     "base_uri": "https://localhost:8080/"
    },
    "id": "BjMDStB9A2Jv",
    "outputId": "90c2fac9-0262-4721-bcf4-88cb2d7ad3d6"
   },
   "outputs": [],
   "source": [
    "import os\n",
    "import sys\n",
    "import torch\n",
    "need_pytorch3d=False\n",
    "try:\n",
    "    import pytorch3d\n",
    "except ModuleNotFoundError:\n",
    "    need_pytorch3d=True\n",
    "if need_pytorch3d:\n",
    "    if torch.__version__.startswith((\"1.13.\", \"2.0.\")) and sys.platform.startswith(\"linux\"):\n",
    "        # We try to install PyTorch3D via a released wheel.\n",
    "        pyt_version_str=torch.__version__.split(\"+\")[0].replace(\".\", \"\")\n",
    "        version_str=\"\".join([\n",
    "            f\"py3{sys.version_info.minor}_cu\",\n",
    "            torch.version.cuda.replace(\".\",\"\"),\n",
    "            f\"_pyt{pyt_version_str}\"\n",
    "        ])\n",
    "        !pip install fvcore iopath\n",
    "        !pip install --no-index --no-cache-dir pytorch3d -f https://dl.fbaipublicfiles.com/pytorch3d/packaging/wheels/{version_str}/download.html\n",
    "    else:\n",
    "        # We try to install PyTorch3D from source.\n",
    "        !pip install 'git+https://github.com/facebookresearch/pytorch3d.git@stable"
   ]
  },
  {
   "cell_type": "code",
   "execution_count": 1,
   "metadata": {
    "id": "IkCaOOAoA7pS"
   },
   "outputs": [],
   "source": [
    "%matplotlib inline\n",
    "import numpy as np\n",
    "import cv2 as cv\n",
    "import os\n",
    "import sys\n",
    "import tqdm\n",
    "import hack_model\n",
    "import helper\n",
    "import matplotlib.pyplot as plt\n",
    "from mpl_toolkits.mplot3d import Axes3D\n",
    "from pytorch3d.structures import Meshes, Pointclouds\n",
    "from pytorch3d.ops import knn_points, knn_gather\n",
    "from pytorch3d.loss import (\n",
    "    chamfer_distance,\n",
    "    mesh_edge_loss,\n",
    "    mesh_laplacian_smoothing,\n",
    "    mesh_normal_consistency,\n",
    ")\n",
    "import pytorch3d\n",
    "from pytorch3d.io import load_obj\n",
    "from pytorch3d.renderer.mesh import rasterize_meshes\n",
    "from pytorch3d.renderer import TexturesUV\n",
    "import trimesh\n",
    "from pytorch3d.vis.plotly_vis import plot_scene\n",
    "from pytorch3d.renderer import (look_at_view_transform,\n",
    "                                FoVPerspectiveCameras,\n",
    "                                FoVOrthographicCameras,\n",
    "                                MeshRenderer,\n",
    "                                MeshRasterizer,\n",
    "                                RasterizationSettings,\n",
    "                                SoftPhongShader,\n",
    "                                HardPhongShader,\n",
    "                                SoftGouraudShader,\n",
    "                                HardGouraudShader,\n",
    "                                TexturesVertex,\n",
    "                                PointLights)\n",
    "import torch\n",
    "from tqdm.notebook import tqdm\n",
    "device = torch.device(\"cuda\")"
   ]
  },
  {
   "cell_type": "code",
   "execution_count": 2,
   "metadata": {
    "id": "vk-tecXVBE0p"
   },
   "outputs": [],
   "source": [
    "\n",
    "hack = hack_model.HACK().to(device)\n",
    "S = hack_model.load_pca(r\"model/S.npy\").to(device)\n",
    "E = hack_model.load_pca(r\"model/E.npy\").to(device)\n",
    "P = hack_model.load_pca(r\"model/P.npy\").to(device)\n",
    "\n"
   ]
  },
  {
   "cell_type": "markdown",
   "metadata": {
    "id": "SJND3fjFm7w_"
   },
   "source": [
    "Prepare some landmarks."
   ]
  },
  {
   "cell_type": "code",
   "execution_count": 3,
   "metadata": {
    "id": "xntUhZw7NPq9"
   },
   "outputs": [],
   "source": [
    "# landmarks\n",
    "hack_ldms_idx = [1225, 1888, 1052, 367, 1719, 1722, 2199, 1447, 966, 3661, 4390, 3927, 3924, 2608, 3272, 4088, 3443, 268, 493, 1914, 2044, 1401, 3615, 4240, 4114, 2734, 2509, 978, 4527, 4942, 4857, 1140, 2075, 1147, 4269, 3360, 1507, 1542, 1537, 1528, 1518, 1511, 3742, 3751, 3756, 3721, 3725, 3732, 5708, 5695, 2081, 0, 4275, 6200, 6213, 6346, 6461, 5518, 5957, 5841, 5702, 5711, 5533, 6216, 6207, 6470, 5517, 5966]\n",
    "#hack_ldms_idx = hack_ldms_idx[17:]\n",
    "hack_ldms_idx = torch.tensor(hack_ldms_idx, dtype = torch.long).to(device)\n",
    "#img_ldms_2d = [[245.38943, 211.26398], [269.57996, 197.60037], [295.4558, 193.82367], [318.24268, 196.51138], [337.3947, 202.87022], [412.22418, 207.54408], [429.6233, 203.0567], [447.1845, 202.6347], [464.03345, 209.03802], [473.92792, 225.38214], [374.25403, 246.31627], [377.7384, 270.30182], [381.5866, 293.22797], [381.53552, 313.69403], [343.51666, 331.29837], [356.35852, 334.01434], [371.46155, 337.51767], [384.52917, 335.69672], [393.01215, 334.25125], [264, 252], [291, 241], [323, 237], [334, 251], [318, 252], [294, 249], [401, 255], [420, 244], [446, 242], [460, 255], [440, 258], [420, 255], [304.49982, 373.8486], [330.85962, 365.56885], [358.05634, 359.96518], [370.289, 363.06686], [381.90784, 361.638], [401.30487, 370.18536], [413.01947, 380.74606], [398.11597, 384.73773], [384.06335, 388.08438], [368.07056, 387.74844], [351.03943, 386.07706], [332.12646, 380.75378], [309.98633, 372.73206], [350.72882, 373.07513], [367.4126, 374.1097], [382.17096, 375.42905], [410.0326, 379.36578], [382.14105, 372.0839], [367.72522, 371.49854], [352.2655, 370.2742]]\n",
    "#img_ldms_2d = [[176.32904, 257.52527], [178.68747, 299.19366], [184.75555, 337.54608], [191.78381, 371.07678], [205.379, 405.68008], [232.29558, 432.74957], [265.97778, 448.2917], [307.29224, 460.4441], [355.5973, 469.83963], [396.2002, 465.23923], [417.8819, 457.31302], [431.65576, 445.05817], [443.26233, 420.49036], [450.32837, 387.04514], [456.8291, 354.38968], [464.5569, 317.35516], [469.43268, 276.06476], [245.38943, 211.26398], [269.57996, 197.60037], [295.4558, 193.82367], [318.24268, 196.51138], [337.3947, 202.87022], [412.22418, 207.54408], [429.6233, 203.0567], [447.1845, 202.6347], [464.03345, 209.03802], [473.92792, 225.38214], [374.25403, 246.31627], [377.7384, 270.30182], [381.5866, 293.22797], [381.53552, 313.69403], [343.51666, 331.29837], [356.35852, 334.01434], [371.46155, 337.51767], [384.52917, 335.69672], [393.01215, 334.25125], [264, 252], [291, 241], [323, 237], [334, 251], [318, 252], [294, 249], [401, 255], [420, 244], [446, 242], [460, 255], [440, 258], [420, 255], [304.49982, 373.8486], [330.85962, 365.56885], [358.05634, 359.96518], [370.289, 363.06686], [381.90784, 361.638], [401.30487, 370.18536], [413.01947, 380.74606], [398.11597, 384.73773], [384.06335, 388.08438], [368.07056, 387.74844], [351.03943, 386.07706], [332.12646, 380.75378], [309.98633, 372.73206], [350.72882, 373.07513], [367.4126, 374.1097], [382.17096, 375.42905], [410.0326, 379.36578], [382.14105, 372.0839], [367.72522, 371.49854], [352.2655, 370.2742]]\n",
    "img_ldms_2d_load = [[100.53144, 241.91693], [105.2054, 281.62628], [113.3316, 317.74493], [121.43477, 351.27313], [134.41621, 388.73383], [157.91103, 420.94012], [185.49971, 442.75464], [219.63766, 460.68542], [265.75308, 468.14758], [309.03577, 456.4519], [336.54364, 436.47986], [357.34555, 413.08875], [373.58224, 379.55316], [380.9747, 341.3376], [385.09213, 307.06982], [388.84003, 270.6316], [389.3672, 230.63956], [140.91248, 223.46855], [158.68806, 215.65242], [180.35225, 214.05914], [201.04556, 217.14508], [219.56935, 222.50986], [291.8489, 219.65154], [309.31775, 212.70837], [328.502, 208.00076], [348.49738, 207.88269], [363.89395, 214.55515], [257.98984, 256.84772], [260.16925, 282.82898], [262.62268, 308.94226], [263.8232, 329.43558], [236.1374, 338.61127], [247.52292, 342.31653], [262.2467, 345.46094], [276.14066, 341.1446], [286.16626, 336.52823], [170.3226, 251.9514], [183.70772, 247.19849], [201.10638, 246.31676], [217.37134, 252.85109], [203.0272, 258.25256], [184.37665, 258.98462], [292.09976, 249.95996], [308.44748, 241.84915], [325.9298, 240.63885], [338.55026, 245.5854], [326.0813, 253.2693], [307.7534, 254.3243], [202.6658, 376.47742], [225.22083, 371.9969], [250.7631, 368.1772], [263.46582, 370.36682], [275.63644, 367.3246], [299.4964, 369.28778], [317.93906, 371.82526], [297.54688, 383.74506], [281.07706, 390.95746], [263.74744, 392.8678], [246.13966, 392.55634], [227.90106, 386.8822], [207.53749, 375.28064], [245.94191, 377.99316], [263.08643, 378.34198], [279.76855, 376.9765], [314.7635, 371.16486], [278.39368, 376.18048], [262.46515, 377.7834], [246.29659, 377.38855]]\n",
    "\n",
    "img_ldms_2d = torch.tensor(img_ldms_2d_load).to(device) / 500."
   ]
  },
  {
   "cell_type": "markdown",
   "metadata": {
    "id": "eKqH9tganFPq"
   },
   "source": [
    "Prepare training image and training mask, you can download trump.png, msk.png from [FLAME_TO_HACK](https://github.com/aoru45/FLAME_TO_HACK). Then put them to the root folder. the msk.png is obtained by a skin segmentation network, you can use any method to obtain a skin mask.\n",
    "\n"
   ]
  },
  {
   "cell_type": "code",
   "execution_count": 4,
   "metadata": {
    "id": "buxA5d5rBo-M"
   },
   "outputs": [],
   "source": [
    "import cv2 as cv\n",
    "img = cv.imread(\"assets/trump.png\")\n",
    "img = cv.cvtColor(img, cv.COLOR_BGR2RGB)\n",
    "img_input = cv.resize(img, (256, 256), interpolation = cv.INTER_NEAREST)\n",
    "img_input = img_input / 255.\n",
    "img_target = torch.tensor(img_input).to(device)\n",
    "img_mask = cv.imread(\"assets/msk.png\", 0)\n",
    "img_mask = cv.resize(img_mask, (500, 500))\n",
    "# fill the eye mask\n",
    "left_eye_idx = [36,37,38,39,40,41,36]\n",
    "right_eye_idx = [42,43,44,45,46,47,42]\n",
    "\n",
    "left_eye_poly = np.array([img_ldms_2d_load[idx] for idx in left_eye_idx]).astype(np.int32)\n",
    "right_eye_poly = np.array([img_ldms_2d_load[idx] for idx in right_eye_idx]).astype(np.int32)\n",
    "cv.fillConvexPoly(img_mask, left_eye_poly, 0)\n",
    "cv.fillConvexPoly(img_mask, right_eye_poly, 0)\n",
    "# cv.imwrite(\"tt.png\", img_mask)\n",
    "img_mask = cv.resize(img_mask, (256, 256))\n",
    "img_mask = img_mask / 255.\n",
    "img_mask = torch.tensor(img_mask).to(device)\n",
    "m_ = img_mask < 0.5\n",
    "img_mask[m_] = 0.\n",
    "img_mask[~m_] = 1.\n",
    "\n",
    "\n",
    "img_target = img_target.view(-1, 256, 256, 3)\n",
    "img_mask = img_mask.view(-1, 256, 256, 1)"
   ]
  },
  {
   "cell_type": "code",
   "execution_count": 5,
   "metadata": {
    "id": "-TxvmD70t5BT"
   },
   "outputs": [],
   "source": [
    "# flame_mesh, (flame_offset, flame_scale) = normalize_mesh(flame_mesh)\n",
    "beta = torch.nn.Parameter(torch.randn(1,200).to(device))\n",
    "theta = torch.nn.Parameter(torch.zeros(1, 8, 3).to(device))\n",
    "tau = torch.nn.Parameter(torch.zeros(1,1).to(device))\n",
    "alpha = torch.nn.Parameter(torch.ones(1, 1).to(device))\n",
    "bsw = torch.nn.Parameter(torch.zeros(1, 55).to(device))\n",
    "camera = torch.nn.Parameter(torch.tensor([[12,19,0.1]]).to(device))\n",
    "lights = torch.nn.Parameter(torch.zeros(1, 9, 3).float().to(device))\n",
    "tex_code = torch.nn.Parameter(torch.zeros(1,50).to(device))\n",
    "\n",
    "# optimizer_camera = torch.optim.Adam([theta, camera], lr = 5e-3, weight_decay = 5e-4)\n",
    "optimizer_camera = torch.optim.AdamW([beta, camera, theta], lr=5e-3, amsgrad=True)\n",
    "num_camera_optim_iter = 2000\n"
   ]
  },
  {
   "cell_type": "markdown",
   "metadata": {
    "id": "38QBsS6QnJvQ"
   },
   "source": [
    "Train form some epochs. It is used to fit the camera parameters and pose parameters using 2d landmarks."
   ]
  },
  {
   "cell_type": "code",
   "execution_count": 6,
   "metadata": {
    "colab": {
     "base_uri": "https://localhost:8080/",
     "height": 49,
     "referenced_widgets": [
      "ca087ba572cb4dbea53ceaf4940d0d15",
      "7e6c4e2dca554723b9f0ca3259b861e5",
      "1379b83911234dd6a55b06e6b312c440",
      "a3a914a19e5e478bbc91368db99087be",
      "9290d200c9a14ade83d2ac91f27ceffb",
      "e07cc54b5e90411bb4ae49eded82ef30",
      "902461d7d9854e13a0419630db46043d",
      "bc554a77fb2945daab94fd2938fd6772",
      "7fdb1595915c49f1bbe231fea3915908",
      "609125c011a14c368a9bb6003bd26b87",
      "76966e4518be4f1f890e8185ae75a33e"
     ]
    },
    "id": "bq4nP55fdl1e",
    "outputId": "989e6e81-af38-4605-cb7f-1fa1d0a3b4bf"
   },
   "outputs": [
    {
     "data": {
      "application/vnd.jupyter.widget-view+json": {
       "model_id": "62d6f6cf47ac4e888c7bb4c859ff21b2",
       "version_major": 2,
       "version_minor": 0
      },
      "text/plain": [
       "  0%|          | 0/2000 [00:00<?, ?it/s]"
      ]
     },
     "metadata": {},
     "output_type": "display_data"
    }
   ],
   "source": [
    "cam_loop = tqdm(range(num_camera_optim_iter))\n",
    "\n",
    "for _iter in cam_loop:\n",
    "    optimizer_camera.zero_grad()\n",
    "    # (B,N,3)\n",
    "    pred_verts = hack(theta, tau, alpha, bsw, T=S(beta), E=E(), P=P())[\"T_transformed\"]\n",
    "\n",
    "    # camera\n",
    "    pred_verts[..., 0] += camera[0,0]\n",
    "    pred_verts[..., 1] += camera[0,1]\n",
    "    pred_verts = pred_verts * camera[0, 2]\n",
    "\n",
    "    pred_verts_2d = pred_verts[..., :2]\n",
    "    target_ldms_2d = img_ldms_2d.clone()\n",
    "    target_ldms_2d[:, 1] = 1 - target_ldms_2d[:, 1]\n",
    "\n",
    "    # ldm\n",
    "    pred_ldms_2d = torch.index_select(pred_verts_2d[0], 0, hack_ldms_idx)\n",
    "    loss_ldm = torch.nn.functional.mse_loss(pred_ldms_2d, target_ldms_2d)\n",
    "    # loss_laplacian = mesh_laplacian_smoothing(deformed_mesh, method=\"uniform\")\n",
    "    loss = loss_ldm\n",
    "\n",
    "    cam_loop.set_description(f\"[Loss: {loss:.6f}]\")\n",
    "    loss.backward()\n",
    "    optimizer_camera.step()\n",
    "\n",
    "\n",
    "\n",
    "  # plot_mesh2(flame_mesh, deformed_mesh, f\"{epoch}\")\n"
   ]
  },
  {
   "cell_type": "code",
   "execution_count": 8,
   "metadata": {
    "colab": {
     "base_uri": "https://localhost:8080/",
     "height": 921
    },
    "id": "zTdvghgAo1NC",
    "outputId": "3fca1c4d-c159-4cf7-ca6e-96baa9decc03"
   },
   "outputs": [
    {
     "data": {
      "text/plain": [
       "<Figure size 640x480 with 0 Axes>"
      ]
     },
     "metadata": {},
     "output_type": "display_data"
    },
    {
     "data": {
      "image/png": "[encoded data removed]",
      "text/plain": [
       "<Figure size 640x480 with 1 Axes>"
      ]
     },
     "metadata": {},
     "output_type": "display_data"
    },
    {
     "data": {
      "text/plain": [
       "<Figure size 640x480 with 0 Axes>"
      ]
     },
     "metadata": {},
     "output_type": "display_data"
    },
    {
     "data": {
      "image/png": "[encoded data removed]",
      "text/plain": [
       "<Figure size 640x480 with 1 Axes>"
      ]
     },
     "metadata": {},
     "output_type": "display_data"
    }
   ],
   "source": [
    "plt.figure(1)\n",
    "pts_ = img_ldms_2d.clone().cpu().numpy()\n",
    "x = pts_[:, 0]\n",
    "y = pts_[:, 1]\n",
    "plt.figure()\n",
    "plt.scatter(x, 1-y)\n",
    "plt.title(\"gt\")\n",
    "plt.show()\n",
    "\n",
    "plt.figure(2)\n",
    "pts_ = pred_ldms_2d.detach().clone().cpu().numpy()\n",
    "# pts_ = img_ldms_2d.clone().cpu().numpy()\n",
    "x = pts_[:, 0]\n",
    "y = pts_[:, 1]\n",
    "plt.figure()\n",
    "plt.scatter(x, y)\n",
    "plt.title(\"pred\")\n",
    "plt.show()\n"
   ]
  },
  {
   "cell_type": "markdown",
   "metadata": {
    "id": "w5R6W9sx3pis"
   },
   "source": [
    "You should download hack_modified_template.obj and put them in root folder. You can download it from [FLAME_TO_HACK](https://github.com/aoru45/FLAME_TO_HACK)\n",
    "\n"
   ]
  },
  {
   "cell_type": "code",
   "execution_count": 7,
   "metadata": {
    "colab": {
     "base_uri": "https://localhost:8080/"
    },
    "id": "VAGQaOqn4bZ3",
    "outputId": "8bb82310-7fd7-4f70-b04a-8e87f17327dd"
   },
   "outputs": [],
   "source": [
    "verts_, o_faces, aux = load_obj(\"assets/hack_w_flame.obj\")\n",
    "# verts = verts[None, ...] # (N, V, 3)\n",
    "\n",
    "vts = aux.verts_uvs[None, ...].to(device)  # (N, V, 2)\n",
    "fvts = o_faces.textures_idx[None, ...].to(device)  # (N, F, 3)\n",
    "faces = o_faces.verts_idx[None, ...].to(device) # (N,F,3)\n",
    "class HACKTex(torch.nn.Module):\n",
    "    def __init__(self):\n",
    "        super().__init__()\n",
    "        tex_params = 50\n",
    "\n",
    "        tex_space = np.load(\"FLAME_texture.npz\")\n",
    "        texture_mean = tex_space['mean'].reshape(1, -1)\n",
    "        texture_basis = tex_space['tex_dir'].reshape(-1, 200)\n",
    "        num_components = texture_basis.shape[1]\n",
    "        texture_mean = torch.from_numpy(texture_mean).float()[None,...]\n",
    "        texture_basis = torch.from_numpy(texture_basis[:,:tex_params]).float()[None,...]\n",
    "\n",
    "        self.register_buffer('texture_mean', texture_mean)\n",
    "        self.register_buffer('texture_basis', texture_basis)\n",
    "\n",
    "    def forward(self, texcode):\n",
    "        texture = self.texture_mean + (self.texture_basis*texcode[:,None,:]).sum(-1)\n",
    "        texture = texture.reshape(texcode.shape[0], 512, 512, 3).permute(0,3,1,2)\n",
    "        texture = torch.nn.functional.interpolate(texture, [256, 256])\n",
    "        texture = texture[:,[2,1,0], :,:] / 255.\n",
    "        return texture\n",
    "hack_tex_generator = HACKTex().to(device)\n"
   ]
  },
  {
   "cell_type": "markdown",
   "metadata": {
    "id": "cpF4vGLe3vNo"
   },
   "source": [
    "Render function"
   ]
  },
  {
   "cell_type": "code",
   "execution_count": 8,
   "metadata": {
    "id": "sw7HIfG3verk"
   },
   "outputs": [],
   "source": [
    "pi = np.pi\n",
    "constant_factor = torch.tensor(\n",
    "            [1 / np.sqrt(4 * pi), ((2 * pi) / 3) * (np.sqrt(3 / (4 * pi))), ((2 * pi) / 3) * (np.sqrt(3 / (4 * pi))), \\\n",
    "             ((2 * pi) / 3) * (np.sqrt(3 / (4 * pi))), (pi / 4) * (3) * (np.sqrt(5 / (12 * pi))),\n",
    "             (pi / 4) * (3) * (np.sqrt(5 / (12 * pi))), \\\n",
    "             (pi / 4) * (3) * (np.sqrt(5 / (12 * pi))), (pi / 4) * (3 / 2) * (np.sqrt(5 / (12 * pi))),\n",
    "             (pi / 4) * (1 / 2) * (np.sqrt(5 / (4 * pi)))]).to(device)\n",
    "def add_SHlight(normal_images, sh_coeff):\n",
    "    '''\n",
    "    sh_coeff: [bz, 9, 3]\n",
    "    '''\n",
    "\n",
    "    N = normal_images\n",
    "    sh = torch.stack([\n",
    "      N[:, 0] * 0. + 1., N[:, 0], N[:, 1], \\\n",
    "      N[:, 2], N[:, 0] * N[:, 1], N[:, 0] * N[:, 2],\n",
    "      N[:, 1] * N[:, 2], N[:, 0] ** 2 - N[:, 1] ** 2, 3 * (N[:, 2] ** 2) - 1\n",
    "  ],\n",
    "      1)  # [bz, 9, h, w]\n",
    "    sh = sh * constant_factor[None, :, None, None]\n",
    "    shading = torch.sum(sh_coeff[:, :, :, None, None] * sh[:, :, None, :, :], 1)  # [bz, 9, 3, h, w]\n",
    "    return shading\n",
    "def render_mesh(mesh, uv_vertices, uv_faces, uv_image, light, image_size = 256):\n",
    "    # vertices (B, V, 3)\n",
    "    # faces (B, F, 3)\n",
    "\n",
    "    vertices = mesh.verts_padded()\n",
    "    faces = mesh.faces_padded()\n",
    "    normals = mesh.verts_normals_padded().detach()\n",
    "\n",
    "    fixed_vertices = vertices.clone()\n",
    "    fixed_vertices[..., 0] = -2*fixed_vertices[..., 0] + 1\n",
    "    fixed_vertices[..., 1] = 2*fixed_vertices[..., 1] - 1\n",
    "    fixed_vertices[..., 2] = -fixed_vertices[..., 2] + 10\n",
    "\n",
    "    meshes_screen = Meshes(verts=fixed_vertices, faces=faces)\n",
    "    pix_to_face, zbuf, bary_coords, dists = rasterize_meshes(\n",
    "      meshes_screen,\n",
    "      image_size=image_size,\n",
    "      blur_radius=0,\n",
    "      faces_per_pixel=1,\n",
    "      bin_size=None,\n",
    "      max_faces_per_bin=None\n",
    "    )\n",
    "\n",
    "    vismask = (pix_to_face > -1).float()\n",
    "    mask = pix_to_face == -1\n",
    "    # pix_to_face: (N, image_size, image_size, 1)\n",
    "    pix_to_face = pix_to_face.clone()\n",
    "    pix_to_face[mask] = 0\n",
    "    # torch.Size([262144, 3])\n",
    "    idx = pix_to_face.flatten()\n",
    "\n",
    "    pixel_face_idx = torch.index_select(faces.view(-1,3),0, idx) #(n, 3)\n",
    "    uv_face_idx = torch.index_select(uv_faces.view(-1,3), 0, idx)\n",
    "\n",
    "    # uv coordinatex\n",
    "    p1 = torch.index_select(uv_vertices[0], 0, uv_face_idx[:, 0]) #(n,2)\n",
    "    p2 = torch.index_select(uv_vertices[0], 0, uv_face_idx[:, 1]) #(n,2)\n",
    "    p3 = torch.index_select(uv_vertices[0], 0, uv_face_idx[:, 2]) #(n,2)\n",
    "\n",
    "    # normals\n",
    "    n1 = torch.index_select(normals[0], 0, pixel_face_idx[:, 0]) #(n,2)\n",
    "    n2 = torch.index_select(normals[0], 0, pixel_face_idx[:, 1]) #(n,2)\n",
    "    n3 = torch.index_select(normals[0], 0, pixel_face_idx[:, 2]) #(n,2)\n",
    "\n",
    "    p = torch.stack([p1, p2, p3], dim = 1)\n",
    "    n = torch.stack([n1, n2, n3], dim = 1)\n",
    "\n",
    "    p_interp = (p * bary_coords.view(-1,3,1)).sum(1) # (n, 2)\n",
    "    n_interp = (n * bary_coords.view(-1,3,1)).sum(1).view(-1, image_size, image_size, 3).permute(0,3,1,2)\n",
    "\n",
    "    grid = p_interp.view(-1, image_size, image_size, 2)\n",
    "    grid = grid * 2 - 1\n",
    "    grid[...,1] = -grid[..., 1]\n",
    "\n",
    "    output = torch.nn.functional.grid_sample(uv_image,\n",
    "                                           grid,\n",
    "                                           mode='bilinear',\n",
    "                                           padding_mode=\"border\",\n",
    "                                           align_corners=False)\n",
    "    # output (n, c, h ,w)\n",
    "    shade = add_SHlight(n_interp, light)\n",
    "\n",
    "    return (output * shade).permute(0, 2, 3, 1), vismask\n"
   ]
  },
  {
   "cell_type": "markdown",
   "metadata": {
    "id": "t-wk-fv43zxo"
   },
   "source": [
    "Optimize for some iterations."
   ]
  },
  {
   "cell_type": "code",
   "execution_count": 10,
   "metadata": {
    "colab": {
     "base_uri": "https://localhost:8080/",
     "height": 49,
     "referenced_widgets": [
      "4e1ea6c7519f44dba547dc1a07ac978d",
      "1eb99c75425f4468885fd0fb5648ccd5",
      "23a2455961b04c1ca88e85a0e0006580",
      "71f10fabe1984355898898fc6084daad",
      "675f3e115cb54660be2b7c9b9a11b708",
      "d56a974219e842bd998a828a8effe376",
      "749703f866a94e23b17c09bb36ef02e9",
      "1dca82cffd8c4a928d0f6f3f24736159",
      "e09b227ce0d248db9b9cda1888cb275c",
      "121cedb80ca9479e8b1e6f86fc179db6",
      "fd7f16d63fb2490591e9b0f4b39e2157"
     ]
    },
    "id": "Ucix5ugo8EJP",
    "outputId": "007541ab-ecd5-4553-9572-3167b78ce24e"
   },
   "outputs": [
    {
     "data": {
      "application/vnd.jupyter.widget-view+json": {
       "model_id": "1b2947e462e343cb82a9248dec1933d1",
       "version_major": 2,
       "version_minor": 0
      },
      "text/plain": [
       "  0%|          | 0/5000 [00:00<?, ?it/s]"
      ]
     },
     "metadata": {},
     "output_type": "display_data"
    }
   ],
   "source": [
    "# optimizer_photo = torch.optim.AdamW([beta, theta, tau, bsw,alpha, camera, lights, tex_code], lr=5e-2, amsgrad=True)\n",
    "\n",
    "optimizer_photo = torch.optim.Adam([\n",
    "             {'params': [beta, lights, tex_code], \"lr\": 1e-3},\n",
    "             {'params': [camera, theta, tau], 'lr': 1e-6},\n",
    "             {'params': [bsw], 'lr': 1e-6}\n",
    "        ],\n",
    "         lr=1e-3\n",
    " )\n",
    "\n",
    "\n",
    "#optimizer_photo = torch.optim.Adam([beta, theta, tau, bsw, camera, lights, tex_code], lr=1e-4)\n",
    "num_photo_optim_iter  = 5000\n",
    "photo_loop = tqdm(range(num_photo_optim_iter))\n",
    "# optimize photo with render\n",
    "for _iter in photo_loop:\n",
    "    optimizer_photo.zero_grad()\n",
    "    pred_verts = hack(theta, tau, alpha, bsw, T=S(beta), E=E(), P=P())[\"T_transformed\"]\n",
    "    # camera transform\n",
    "    pred_verts[..., 0] += camera[0,0]\n",
    "    pred_verts[..., 1] += camera[0,1]\n",
    "    pred_verts = pred_verts * camera[0, 2]\n",
    "\n",
    "    # to image space\n",
    "    pred_verts_2d = pred_verts[..., :2]\n",
    "    target_ldms_2d = img_ldms_2d.clone()\n",
    "    target_ldms_2d[:, 1] = 1 - target_ldms_2d[:, 1]\n",
    "\n",
    "    # ldm\n",
    "    pred_ldms_2d = torch.index_select(pred_verts_2d[0], 0, hack_ldms_idx)\n",
    "\n",
    "\n",
    "    # render\n",
    "    pred_uv_map = hack_tex_generator(tex_code)\n",
    "    mesh = Meshes(verts = pred_verts, faces = faces)\n",
    "    rendered_image, vismask = render_mesh(mesh, vts, fvts, pred_uv_map, lights)\n",
    "    loss_ldm = torch.nn.functional.mse_loss(pred_ldms_2d, target_ldms_2d)\n",
    "\n",
    "    loss_photo = (img_mask.detach() * (rendered_image - img_target).abs()).mean()\n",
    "    loss_regularization = (torch.sum(beta ** 2) / 2) * 1e-4 + (torch.sum(bsw ** 2) / 2) * 1e-2\n",
    "    loss = 1 * loss_ldm + loss_photo  + loss_regularization\n",
    "    photo_loop.set_description(f\"[Loss: {loss:.6f}] [ldm: {loss_ldm:.6f}] [photo: {loss_photo:.6f}]\")\n",
    "\n",
    "    loss.backward()\n",
    "    optimizer_photo.step()\n",
    "\n",
    "\n"
   ]
  },
  {
   "cell_type": "markdown",
   "metadata": {
    "id": "JwZbNrr_37Ey"
   },
   "source": [
    "Draw the optimization result and render it."
   ]
  },
  {
   "cell_type": "code",
   "execution_count": 11,
   "metadata": {
    "colab": {
     "base_uri": "https://localhost:8080/",
     "height": 890
    },
    "id": "EXTjQFP9z_PJ",
    "outputId": "cc63e572-9c19-4b35-fad7-2453d2466e41"
   },
   "outputs": [
    {
     "name": "stderr",
     "output_type": "stream",
     "text": [
      "Clipping input data to the valid range for imshow with RGB data ([0..1] for floats or [0..255] for integers).\n"
     ]
    },
    {
     "data": {
      "image/png": "[encoded data removed]",
      "text/plain": [
       "<Figure size 640x480 with 1 Axes>"
      ]
     },
     "metadata": {},
     "output_type": "display_data"
    },
    {
     "data": {
      "image/png": "[encoded data removed]",
      "text/plain": [
       "<Figure size 640x480 with 1 Axes>"
      ]
     },
     "metadata": {},
     "output_type": "display_data"
    }
   ],
   "source": [
    "with torch.no_grad():\n",
    "    pred_verts = hack(theta, tau, alpha, bsw, T=S(beta), E=E(), P=P())[\"T_transformed\"]\n",
    "    # camera transform\n",
    "    pred_verts[..., 0] += camera[0,0]\n",
    "    pred_verts[..., 1] += camera[0,1]\n",
    "    pred_verts = pred_verts * camera[0, 2]\n",
    "\n",
    "    # to image space\n",
    "    pred_verts_2d = pred_verts[..., :2]\n",
    "    pred_ldms_2d = torch.index_select(pred_verts_2d[0], 0, hack_ldms_idx)\n",
    "\n",
    "\n",
    "    # render\n",
    "    pred_uv_map = hack_tex_generator(tex_code)\n",
    "    mesh = Meshes(verts = pred_verts, faces = faces)\n",
    "    rendered_image, vismask = render_mesh(mesh, vts, fvts, pred_uv_map, lights)\n",
    "    img_to_show = (rendered_image.detach() * img_mask.detach()).cpu()[0].numpy()\n",
    "\n",
    "    pred_ldms_2d_ = pred_ldms_2d.detach().cpu().numpy()\n",
    "    pred_ldms_2d_[:, 1] = 1 - pred_ldms_2d_[:, 1]\n",
    "    pred_ldms_2d_ = pred_ldms_2d_ * 256\n",
    "    plt.figure(1)\n",
    "    plt.imshow(img_to_show)\n",
    "    plt.scatter(pred_ldms_2d_[:, 0], pred_ldms_2d_[:, 1], color='w', lw=1.5, alpha=0.7,s=1)\n",
    "    plt.show()\n",
    "    plt.figure(2)\n",
    "    plt.imshow((img_target*img_mask)[0].cpu().numpy())\n",
    "    img_ldms_2d_ =img_ldms_2d.detach().cpu().numpy() * 256\n",
    "    plt.scatter(img_ldms_2d_[:, 0], img_ldms_2d_[:, 1], color='w', lw=1.5, alpha=0.7,s=1)\n",
    "    plt.show()\n"
   ]
  },
  {
   "cell_type": "code",
   "execution_count": null,
   "metadata": {
    "id": "Fb8xviT6s1fR"
   },
   "outputs": [],
   "source": []
  }
 ],
 "metadata": {
  "accelerator": "GPU",
  "colab": {
   "authorship_tag": "ABX9TyOnDuIV3c8sP6/CK7UrDoY0",
   "gpuType": "T4",
   "include_colab_link": true,
   "provenance": []
  },
  "kernelspec": {
   "display_name": "Python 3 (ipykernel)",
   "language": "python",
   "name": "python3"
  },
  "language_info": {
   "codemirror_mode": {
    "name": "ipython",
    "version": 3
   },
   "file_extension": ".py",
   "mimetype": "text/x-python",
   "name": "python",
   "nbconvert_exporter": "python",
   "pygments_lexer": "ipython3",
   "version": "3.9.11"
  },
  "widgets": {
   "application/vnd.jupyter.widget-state+json": {
    "121cedb80ca9479e8b1e6f86fc179db6": {
     "model_module": "@jupyter-widgets/base",
     "model_module_version": "1.2.0",
     "model_name": "LayoutModel",
     "state": {
      "_model_module": "@jupyter-widgets/base",
      "_model_module_version": "1.2.0",
      "_model_name": "LayoutModel",
      "_view_count": null,
      "_view_module": "@jupyter-widgets/base",
      "_view_module_version": "1.2.0",
      "_view_name": "LayoutView",
      "align_content": null,
      "align_items": null,
      "align_self": null,
      "border": null,
      "bottom": null,
      "display": null,
      "flex": null,
      "flex_flow": null,
      "grid_area": null,
      "grid_auto_columns": null,
      "grid_auto_flow": null,
      "grid_auto_rows": null,
      "grid_column": null,
      "grid_gap": null,
      "grid_row": null,
      "grid_template_areas": null,
      "grid_template_columns": null,
      "grid_template_rows": null,
      "height": null,
      "justify_content": null,
      "justify_items": null,
      "left": null,
      "margin": null,
      "max_height": null,
      "max_width": null,
      "min_height": null,
      "min_width": null,
      "object_fit": null,
      "object_position": null,
      "order": null,
      "overflow": null,
      "overflow_x": null,
      "overflow_y": null,
      "padding": null,
      "right": null,
      "top": null,
      "visibility": null,
      "width": null
     }
    },
    "1379b83911234dd6a55b06e6b312c440": {
     "model_module": "@jupyter-widgets/controls",
     "model_module_version": "1.5.0",
     "model_name": "FloatProgressModel",
     "state": {
      "_dom_classes": [],
      "_model_module": "@jupyter-widgets/controls",
      "_model_module_version": "1.5.0",
      "_model_name": "FloatProgressModel",
      "_view_count": null,
      "_view_module": "@jupyter-widgets/controls",
      "_view_module_version": "1.5.0",
      "_view_name": "ProgressView",
      "bar_style": "success",
      "description": "",
      "description_tooltip": null,
      "layout": "IPY_MODEL_bc554a77fb2945daab94fd2938fd6772",
      "max": 4000,
      "min": 0,
      "orientation": "horizontal",
      "style": "IPY_MODEL_7fdb1595915c49f1bbe231fea3915908",
      "value": 4000
     }
    },
    "1dca82cffd8c4a928d0f6f3f24736159": {
     "model_module": "@jupyter-widgets/base",
     "model_module_version": "1.2.0",
     "model_name": "LayoutModel",
     "state": {
      "_model_module": "@jupyter-widgets/base",
      "_model_module_version": "1.2.0",
      "_model_name": "LayoutModel",
      "_view_count": null,
      "_view_module": "@jupyter-widgets/base",
      "_view_module_version": "1.2.0",
      "_view_name": "LayoutView",
      "align_content": null,
      "align_items": null,
      "align_self": null,
      "border": null,
      "bottom": null,
      "display": null,
      "flex": null,
      "flex_flow": null,
      "grid_area": null,
      "grid_auto_columns": null,
      "grid_auto_flow": null,
      "grid_auto_rows": null,
      "grid_column": null,
      "grid_gap": null,
      "grid_row": null,
      "grid_template_areas": null,
      "grid_template_columns": null,
      "grid_template_rows": null,
      "height": null,
      "justify_content": null,
      "justify_items": null,
      "left": null,
      "margin": null,
      "max_height": null,
      "max_width": null,
      "min_height": null,
      "min_width": null,
      "object_fit": null,
      "object_position": null,
      "order": null,
      "overflow": null,
      "overflow_x": null,
      "overflow_y": null,
      "padding": null,
      "right": null,
      "top": null,
      "visibility": null,
      "width": null
     }
    },
    "1eb99c75425f4468885fd0fb5648ccd5": {
     "model_module": "@jupyter-widgets/controls",
     "model_module_version": "1.5.0",
     "model_name": "HTMLModel",
     "state": {
      "_dom_classes": [],
      "_model_module": "@jupyter-widgets/controls",
      "_model_module_version": "1.5.0",
      "_model_name": "HTMLModel",
      "_view_count": null,
      "_view_module": "@jupyter-widgets/controls",
      "_view_module_version": "1.5.0",
      "_view_name": "HTMLView",
      "description": "",
      "description_tooltip": null,
      "layout": "IPY_MODEL_d56a974219e842bd998a828a8effe376",
      "placeholder": "​",
      "style": "IPY_MODEL_749703f866a94e23b17c09bb36ef02e9",
      "value": "[Loss: 0.019192] [ldm: 0.000388] [photo: 0.017782]: 100%"
     }
    },
    "23a2455961b04c1ca88e85a0e0006580": {
     "model_module": "@jupyter-widgets/controls",
     "model_module_version": "1.5.0",
     "model_name": "FloatProgressModel",
     "state": {
      "_dom_classes": [],
      "_model_module": "@jupyter-widgets/controls",
      "_model_module_version": "1.5.0",
      "_model_name": "FloatProgressModel",
      "_view_count": null,
      "_view_module": "@jupyter-widgets/controls",
      "_view_module_version": "1.5.0",
      "_view_name": "ProgressView",
      "bar_style": "success",
      "description": "",
      "description_tooltip": null,
      "layout": "IPY_MODEL_1dca82cffd8c4a928d0f6f3f24736159",
      "max": 20000,
      "min": 0,
      "orientation": "horizontal",
      "style": "IPY_MODEL_e09b227ce0d248db9b9cda1888cb275c",
      "value": 20000
     }
    },
    "4e1ea6c7519f44dba547dc1a07ac978d": {
     "model_module": "@jupyter-widgets/controls",
     "model_module_version": "1.5.0",
     "model_name": "HBoxModel",
     "state": {
      "_dom_classes": [],
      "_model_module": "@jupyter-widgets/controls",
      "_model_module_version": "1.5.0",
      "_model_name": "HBoxModel",
      "_view_count": null,
      "_view_module": "@jupyter-widgets/controls",
      "_view_module_version": "1.5.0",
      "_view_name": "HBoxView",
      "box_style": "",
      "children": [
       "IPY_MODEL_1eb99c75425f4468885fd0fb5648ccd5",
       "IPY_MODEL_23a2455961b04c1ca88e85a0e0006580",
       "IPY_MODEL_71f10fabe1984355898898fc6084daad"
      ],
      "layout": "IPY_MODEL_675f3e115cb54660be2b7c9b9a11b708"
     }
    },
    "609125c011a14c368a9bb6003bd26b87": {
     "model_module": "@jupyter-widgets/base",
     "model_module_version": "1.2.0",
     "model_name": "LayoutModel",
     "state": {
      "_model_module": "@jupyter-widgets/base",
      "_model_module_version": "1.2.0",
      "_model_name": "LayoutModel",
      "_view_count": null,
      "_view_module": "@jupyter-widgets/base",
      "_view_module_version": "1.2.0",
      "_view_name": "LayoutView",
      "align_content": null,
      "align_items": null,
      "align_self": null,
      "border": null,
      "bottom": null,
      "display": null,
      "flex": null,
      "flex_flow": null,
      "grid_area": null,
      "grid_auto_columns": null,
      "grid_auto_flow": null,
      "grid_auto_rows": null,
      "grid_column": null,
      "grid_gap": null,
      "grid_row": null,
      "grid_template_areas": null,
      "grid_template_columns": null,
      "grid_template_rows": null,
      "height": null,
      "justify_content": null,
      "justify_items": null,
      "left": null,
      "margin": null,
      "max_height": null,
      "max_width": null,
      "min_height": null,
      "min_width": null,
      "object_fit": null,
      "object_position": null,
      "order": null,
      "overflow": null,
      "overflow_x": null,
      "overflow_y": null,
      "padding": null,
      "right": null,
      "top": null,
      "visibility": null,
      "width": null
     }
    },
    "675f3e115cb54660be2b7c9b9a11b708": {
     "model_module": "@jupyter-widgets/base",
     "model_module_version": "1.2.0",
     "model_name": "LayoutModel",
     "state": {
      "_model_module": "@jupyter-widgets/base",
      "_model_module_version": "1.2.0",
      "_model_name": "LayoutModel",
      "_view_count": null,
      "_view_module": "@jupyter-widgets/base",
      "_view_module_version": "1.2.0",
      "_view_name": "LayoutView",
      "align_content": null,
      "align_items": null,
      "align_self": null,
      "border": null,
      "bottom": null,
      "display": null,
      "flex": null,
      "flex_flow": null,
      "grid_area": null,
      "grid_auto_columns": null,
      "grid_auto_flow": null,
      "grid_auto_rows": null,
      "grid_column": null,
      "grid_gap": null,
      "grid_row": null,
      "grid_template_areas": null,
      "grid_template_columns": null,
      "grid_template_rows": null,
      "height": null,
      "justify_content": null,
      "justify_items": null,
      "left": null,
      "margin": null,
      "max_height": null,
      "max_width": null,
      "min_height": null,
      "min_width": null,
      "object_fit": null,
      "object_position": null,
      "order": null,
      "overflow": null,
      "overflow_x": null,
      "overflow_y": null,
      "padding": null,
      "right": null,
      "top": null,
      "visibility": null,
      "width": null
     }
    },
    "71f10fabe1984355898898fc6084daad": {
     "model_module": "@jupyter-widgets/controls",
     "model_module_version": "1.5.0",
     "model_name": "HTMLModel",
     "state": {
      "_dom_classes": [],
      "_model_module": "@jupyter-widgets/controls",
      "_model_module_version": "1.5.0",
      "_model_name": "HTMLModel",
      "_view_count": null,
      "_view_module": "@jupyter-widgets/controls",
      "_view_module_version": "1.5.0",
      "_view_name": "HTMLView",
      "description": "",
      "description_tooltip": null,
      "layout": "IPY_MODEL_121cedb80ca9479e8b1e6f86fc179db6",
      "placeholder": "​",
      "style": "IPY_MODEL_fd7f16d63fb2490591e9b0f4b39e2157",
      "value": " 20000/20000 [08:37&lt;00:00, 40.04it/s]"
     }
    },
    "749703f866a94e23b17c09bb36ef02e9": {
     "model_module": "@jupyter-widgets/controls",
     "model_module_version": "1.5.0",
     "model_name": "DescriptionStyleModel",
     "state": {
      "_model_module": "@jupyter-widgets/controls",
      "_model_module_version": "1.5.0",
      "_model_name": "DescriptionStyleModel",
      "_view_count": null,
      "_view_module": "@jupyter-widgets/base",
      "_view_module_version": "1.2.0",
      "_view_name": "StyleView",
      "description_width": ""
     }
    },
    "76966e4518be4f1f890e8185ae75a33e": {
     "model_module": "@jupyter-widgets/controls",
     "model_module_version": "1.5.0",
     "model_name": "DescriptionStyleModel",
     "state": {
      "_model_module": "@jupyter-widgets/controls",
      "_model_module_version": "1.5.0",
      "_model_name": "DescriptionStyleModel",
      "_view_count": null,
      "_view_module": "@jupyter-widgets/base",
      "_view_module_version": "1.2.0",
      "_view_name": "StyleView",
      "description_width": ""
     }
    },
    "7e6c4e2dca554723b9f0ca3259b861e5": {
     "model_module": "@jupyter-widgets/controls",
     "model_module_version": "1.5.0",
     "model_name": "HTMLModel",
     "state": {
      "_dom_classes": [],
      "_model_module": "@jupyter-widgets/controls",
      "_model_module_version": "1.5.0",
      "_model_name": "HTMLModel",
      "_view_count": null,
      "_view_module": "@jupyter-widgets/controls",
      "_view_module_version": "1.5.0",
      "_view_name": "HTMLView",
      "description": "",
      "description_tooltip": null,
      "layout": "IPY_MODEL_e07cc54b5e90411bb4ae49eded82ef30",
      "placeholder": "​",
      "style": "IPY_MODEL_902461d7d9854e13a0419630db46043d",
      "value": "[Loss: 0.000055]: 100%"
     }
    },
    "7fdb1595915c49f1bbe231fea3915908": {
     "model_module": "@jupyter-widgets/controls",
     "model_module_version": "1.5.0",
     "model_name": "ProgressStyleModel",
     "state": {
      "_model_module": "@jupyter-widgets/controls",
      "_model_module_version": "1.5.0",
      "_model_name": "ProgressStyleModel",
      "_view_count": null,
      "_view_module": "@jupyter-widgets/base",
      "_view_module_version": "1.2.0",
      "_view_name": "StyleView",
      "bar_color": null,
      "description_width": ""
     }
    },
    "902461d7d9854e13a0419630db46043d": {
     "model_module": "@jupyter-widgets/controls",
     "model_module_version": "1.5.0",
     "model_name": "DescriptionStyleModel",
     "state": {
      "_model_module": "@jupyter-widgets/controls",
      "_model_module_version": "1.5.0",
      "_model_name": "DescriptionStyleModel",
      "_view_count": null,
      "_view_module": "@jupyter-widgets/base",
      "_view_module_version": "1.2.0",
      "_view_name": "StyleView",
      "description_width": ""
     }
    },
    "9290d200c9a14ade83d2ac91f27ceffb": {
     "model_module": "@jupyter-widgets/base",
     "model_module_version": "1.2.0",
     "model_name": "LayoutModel",
     "state": {
      "_model_module": "@jupyter-widgets/base",
      "_model_module_version": "1.2.0",
      "_model_name": "LayoutModel",
      "_view_count": null,
      "_view_module": "@jupyter-widgets/base",
      "_view_module_version": "1.2.0",
      "_view_name": "LayoutView",
      "align_content": null,
      "align_items": null,
      "align_self": null,
      "border": null,
      "bottom": null,
      "display": null,
      "flex": null,
      "flex_flow": null,
      "grid_area": null,
      "grid_auto_columns": null,
      "grid_auto_flow": null,
      "grid_auto_rows": null,
      "grid_column": null,
      "grid_gap": null,
      "grid_row": null,
      "grid_template_areas": null,
      "grid_template_columns": null,
      "grid_template_rows": null,
      "height": null,
      "justify_content": null,
      "justify_items": null,
      "left": null,
      "margin": null,
      "max_height": null,
      "max_width": null,
      "min_height": null,
      "min_width": null,
      "object_fit": null,
      "object_position": null,
      "order": null,
      "overflow": null,
      "overflow_x": null,
      "overflow_y": null,
      "padding": null,
      "right": null,
      "top": null,
      "visibility": null,
      "width": null
     }
    },
    "a3a914a19e5e478bbc91368db99087be": {
     "model_module": "@jupyter-widgets/controls",
     "model_module_version": "1.5.0",
     "model_name": "HTMLModel",
     "state": {
      "_dom_classes": [],
      "_model_module": "@jupyter-widgets/controls",
      "_model_module_version": "1.5.0",
      "_model_name": "HTMLModel",
      "_view_count": null,
      "_view_module": "@jupyter-widgets/controls",
      "_view_module_version": "1.5.0",
      "_view_name": "HTMLView",
      "description": "",
      "description_tooltip": null,
      "layout": "IPY_MODEL_609125c011a14c368a9bb6003bd26b87",
      "placeholder": "​",
      "style": "IPY_MODEL_76966e4518be4f1f890e8185ae75a33e",
      "value": " 4000/4000 [00:49&lt;00:00, 98.05it/s]"
     }
    },
    "bc554a77fb2945daab94fd2938fd6772": {
     "model_module": "@jupyter-widgets/base",
     "model_module_version": "1.2.0",
     "model_name": "LayoutModel",
     "state": {
      "_model_module": "@jupyter-widgets/base",
      "_model_module_version": "1.2.0",
      "_model_name": "LayoutModel",
      "_view_count": null,
      "_view_module": "@jupyter-widgets/base",
      "_view_module_version": "1.2.0",
      "_view_name": "LayoutView",
      "align_content": null,
      "align_items": null,
      "align_self": null,
      "border": null,
      "bottom": null,
      "display": null,
      "flex": null,
      "flex_flow": null,
      "grid_area": null,
      "grid_auto_columns": null,
      "grid_auto_flow": null,
      "grid_auto_rows": null,
      "grid_column": null,
      "grid_gap": null,
      "grid_row": null,
      "grid_template_areas": null,
      "grid_template_columns": null,
      "grid_template_rows": null,
      "height": null,
      "justify_content": null,
      "justify_items": null,
      "left": null,
      "margin": null,
      "max_height": null,
      "max_width": null,
      "min_height": null,
      "min_width": null,
      "object_fit": null,
      "object_position": null,
      "order": null,
      "overflow": null,
      "overflow_x": null,
      "overflow_y": null,
      "padding": null,
      "right": null,
      "top": null,
      "visibility": null,
      "width": null
     }
    },
    "ca087ba572cb4dbea53ceaf4940d0d15": {
     "model_module": "@jupyter-widgets/controls",
     "model_module_version": "1.5.0",
     "model_name": "HBoxModel",
     "state": {
      "_dom_classes": [],
      "_model_module": "@jupyter-widgets/controls",
      "_model_module_version": "1.5.0",
      "_model_name": "HBoxModel",
      "_view_count": null,
      "_view_module": "@jupyter-widgets/controls",
      "_view_module_version": "1.5.0",
      "_view_name": "HBoxView",
      "box_style": "",
      "children": [
       "IPY_MODEL_7e6c4e2dca554723b9f0ca3259b861e5",
       "IPY_MODEL_1379b83911234dd6a55b06e6b312c440",
       "IPY_MODEL_a3a914a19e5e478bbc91368db99087be"
      ],
      "layout": "IPY_MODEL_9290d200c9a14ade83d2ac91f27ceffb"
     }
    },
    "d56a974219e842bd998a828a8effe376": {
     "model_module": "@jupyter-widgets/base",
     "model_module_version": "1.2.0",
     "model_name": "LayoutModel",
     "state": {
      "_model_module": "@jupyter-widgets/base",
      "_model_module_version": "1.2.0",
      "_model_name": "LayoutModel",
      "_view_count": null,
      "_view_module": "@jupyter-widgets/base",
      "_view_module_version": "1.2.0",
      "_view_name": "LayoutView",
      "align_content": null,
      "align_items": null,
      "align_self": null,
      "border": null,
      "bottom": null,
      "display": null,
      "flex": null,
      "flex_flow": null,
      "grid_area": null,
      "grid_auto_columns": null,
      "grid_auto_flow": null,
      "grid_auto_rows": null,
      "grid_column": null,
      "grid_gap": null,
      "grid_row": null,
      "grid_template_areas": null,
      "grid_template_columns": null,
      "grid_template_rows": null,
      "height": null,
      "justify_content": null,
      "justify_items": null,
      "left": null,
      "margin": null,
      "max_height": null,
      "max_width": null,
      "min_height": null,
      "min_width": null,
      "object_fit": null,
      "object_position": null,
      "order": null,
      "overflow": null,
      "overflow_x": null,
      "overflow_y": null,
      "padding": null,
      "right": null,
      "top": null,
      "visibility": null,
      "width": null
     }
    },
    "e07cc54b5e90411bb4ae49eded82ef30": {
     "model_module": "@jupyter-widgets/base",
     "model_module_version": "1.2.0",
     "model_name": "LayoutModel",
     "state": {
      "_model_module": "@jupyter-widgets/base",
      "_model_module_version": "1.2.0",
      "_model_name": "LayoutModel",
      "_view_count": null,
      "_view_module": "@jupyter-widgets/base",
      "_view_module_version": "1.2.0",
      "_view_name": "LayoutView",
      "align_content": null,
      "align_items": null,
      "align_self": null,
      "border": null,
      "bottom": null,
      "display": null,
      "flex": null,
      "flex_flow": null,
      "grid_area": null,
      "grid_auto_columns": null,
      "grid_auto_flow": null,
      "grid_auto_rows": null,
      "grid_column": null,
      "grid_gap": null,
      "grid_row": null,
      "grid_template_areas": null,
      "grid_template_columns": null,
      "grid_template_rows": null,
      "height": null,
      "justify_content": null,
      "justify_items": null,
      "left": null,
      "margin": null,
      "max_height": null,
      "max_width": null,
      "min_height": null,
      "min_width": null,
      "object_fit": null,
      "object_position": null,
      "order": null,
      "overflow": null,
      "overflow_x": null,
      "overflow_y": null,
      "padding": null,
      "right": null,
      "top": null,
      "visibility": null,
      "width": null
     }
    },
    "e09b227ce0d248db9b9cda1888cb275c": {
     "model_module": "@jupyter-widgets/controls",
     "model_module_version": "1.5.0",
     "model_name": "ProgressStyleModel",
     "state": {
      "_model_module": "@jupyter-widgets/controls",
      "_model_module_version": "1.5.0",
      "_model_name": "ProgressStyleModel",
      "_view_count": null,
      "_view_module": "@jupyter-widgets/base",
      "_view_module_version": "1.2.0",
      "_view_name": "StyleView",
      "bar_color": null,
      "description_width": ""
     }
    },
    "fd7f16d63fb2490591e9b0f4b39e2157": {
     "model_module": "@jupyter-widgets/controls",
     "model_module_version": "1.5.0",
     "model_name": "DescriptionStyleModel",
     "state": {
      "_model_module": "@jupyter-widgets/controls",
      "_model_module_version": "1.5.0",
      "_model_name": "DescriptionStyleModel",
      "_view_count": null,
      "_view_module": "@jupyter-widgets/base",
      "_view_module_version": "1.2.0",
      "_view_name": "StyleView",
      "description_width": ""
     }
    }
   }
  }
 },
 "nbformat": 4,
 "nbformat_minor": 4
}
